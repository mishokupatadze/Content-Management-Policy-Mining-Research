{
 "cells": [
  {
   "cell_type": "code",
   "execution_count": 2,
   "metadata": {},
   "outputs": [],
   "source": [
    "import praw\n",
    "import pandas as pd\n",
    "import datetime as dt"
   ]
  },
  {
   "cell_type": "code",
   "execution_count": 44,
   "metadata": {},
   "outputs": [],
   "source": [
    "reddit_branch = 'worldnews'\n",
    "reddit = praw.Reddit(client_id='VMKOO8KZ8D9ptA', \\\n",
    "                     client_secret='wuVtgi5hMc_mt5af37DpCUeubtQ', \\\n",
    "                     user_agent='Censorship analysis', \\\n",
    "                     username='stannida')\n",
    "subreddit = reddit.subreddit(reddit_branch)"
   ]
  },
  {
   "cell_type": "code",
   "execution_count": 51,
   "metadata": {},
   "outputs": [],
   "source": [
    "top_subreddit = subreddit.top(limit=500)"
   ]
  },
  {
   "cell_type": "code",
   "execution_count": 55,
   "metadata": {},
   "outputs": [
    {
     "name": "stdout",
     "output_type": "stream",
     "text": [
      "Two weeks before his inauguration, Donald J. Trump was shown highly classified intelligence indicating that President Vladimir V. Putin of Russia had personally ordered complex cyberattacks to sway the 2016 American election 901p5f <praw.models.comment_forest.CommentForest object at 0x7fb147596ef0>\n"
     ]
    }
   ],
   "source": [
    "for submission in subreddit.top(limit=1):\n",
    "    print(submission.title, submission.id, submission.comments)"
   ]
  },
  {
   "cell_type": "code",
   "execution_count": 53,
   "metadata": {},
   "outputs": [],
   "source": [
    "topics_dict = { \"title\":[], \n",
    "                \"score\":[], \n",
    "                \"id\":[], \"url\":[], \n",
    "                \"comms_num\": [], \n",
    "                \"created\": [], \n",
    "                \"body\":[]}"
   ]
  },
  {
   "cell_type": "code",
   "execution_count": 56,
   "metadata": {},
   "outputs": [],
   "source": [
    "for submission in top_subreddit:\n",
    "    topics_dict[\"title\"].append(submission.title)\n",
    "    topics_dict[\"score\"].append(submission.score)\n",
    "    topics_dict[\"id\"].append(submission.id)\n",
    "    topics_dict[\"url\"].append(submission.url)\n",
    "    topics_dict[\"comms_num\"].append(submission.num_comments)\n",
    "    topics_dict[\"created\"].append(submission.created)\n",
    "    topics_dict[\"body\"].append(submission.selftext)"
   ]
  },
  {
   "cell_type": "code",
   "execution_count": 57,
   "metadata": {},
   "outputs": [
    {
     "data": {
      "text/html": [
       "<div>\n",
       "<style scoped>\n",
       "    .dataframe tbody tr th:only-of-type {\n",
       "        vertical-align: middle;\n",
       "    }\n",
       "\n",
       "    .dataframe tbody tr th {\n",
       "        vertical-align: top;\n",
       "    }\n",
       "\n",
       "    .dataframe thead th {\n",
       "        text-align: right;\n",
       "    }\n",
       "</style>\n",
       "<table border=\"1\" class=\"dataframe\">\n",
       "  <thead>\n",
       "    <tr style=\"text-align: right;\">\n",
       "      <th></th>\n",
       "      <th>title</th>\n",
       "      <th>score</th>\n",
       "      <th>id</th>\n",
       "      <th>url</th>\n",
       "      <th>comms_num</th>\n",
       "      <th>created</th>\n",
       "      <th>body</th>\n",
       "    </tr>\n",
       "  </thead>\n",
       "  <tbody>\n",
       "    <tr>\n",
       "      <th>0</th>\n",
       "      <td>Two weeks before his inauguration, Donald J. T...</td>\n",
       "      <td>189354</td>\n",
       "      <td>901p5f</td>\n",
       "      <td>https://www.nytimes.com/2018/07/18/world/europ...</td>\n",
       "      <td>18368</td>\n",
       "      <td>1.531995e+09</td>\n",
       "      <td></td>\n",
       "    </tr>\n",
       "    <tr>\n",
       "      <th>1</th>\n",
       "      <td>2.6 terabyte leak of Panamanian shell company ...</td>\n",
       "      <td>154765</td>\n",
       "      <td>4d75i7</td>\n",
       "      <td>http://panamapapers.sueddeutsche.de/articles/5...</td>\n",
       "      <td>12207</td>\n",
       "      <td>1.459735e+09</td>\n",
       "      <td></td>\n",
       "    </tr>\n",
       "    <tr>\n",
       "      <th>2</th>\n",
       "      <td>Churchill's grandson slams Trump for skipping ...</td>\n",
       "      <td>150306</td>\n",
       "      <td>9vw2w3</td>\n",
       "      <td>https://thehill.com/homenews/administration/41...</td>\n",
       "      <td>8071</td>\n",
       "      <td>1.541900e+09</td>\n",
       "      <td></td>\n",
       "    </tr>\n",
       "    <tr>\n",
       "      <th>3</th>\n",
       "      <td>Internet Defenders Urge Mass Revolt to Fight F...</td>\n",
       "      <td>145856</td>\n",
       "      <td>7erver</td>\n",
       "      <td>https://www.commondreams.org/news/2017/11/21/i...</td>\n",
       "      <td>4053</td>\n",
       "      <td>1.511395e+09</td>\n",
       "      <td></td>\n",
       "    </tr>\n",
       "    <tr>\n",
       "      <th>4</th>\n",
       "      <td>Giraffes just silently went to the list of end...</td>\n",
       "      <td>142120</td>\n",
       "      <td>a79z9p</td>\n",
       "      <td>https://www.indiatoday.in/education-today/gk-c...</td>\n",
       "      <td>3580</td>\n",
       "      <td>1.545158e+09</td>\n",
       "      <td></td>\n",
       "    </tr>\n",
       "  </tbody>\n",
       "</table>\n",
       "</div>"
      ],
      "text/plain": [
       "                                               title   score      id  \\\n",
       "0  Two weeks before his inauguration, Donald J. T...  189354  901p5f   \n",
       "1  2.6 terabyte leak of Panamanian shell company ...  154765  4d75i7   \n",
       "2  Churchill's grandson slams Trump for skipping ...  150306  9vw2w3   \n",
       "3  Internet Defenders Urge Mass Revolt to Fight F...  145856  7erver   \n",
       "4  Giraffes just silently went to the list of end...  142120  a79z9p   \n",
       "\n",
       "                                                 url  comms_num       created  \\\n",
       "0  https://www.nytimes.com/2018/07/18/world/europ...      18368  1.531995e+09   \n",
       "1  http://panamapapers.sueddeutsche.de/articles/5...      12207  1.459735e+09   \n",
       "2  https://thehill.com/homenews/administration/41...       8071  1.541900e+09   \n",
       "3  https://www.commondreams.org/news/2017/11/21/i...       4053  1.511395e+09   \n",
       "4  https://www.indiatoday.in/education-today/gk-c...       3580  1.545158e+09   \n",
       "\n",
       "  body  \n",
       "0       \n",
       "1       \n",
       "2       \n",
       "3       \n",
       "4       "
      ]
     },
     "execution_count": 57,
     "metadata": {},
     "output_type": "execute_result"
    }
   ],
   "source": [
    "topics_data = pd.DataFrame(topics_dict)\n",
    "topics_data.head()"
   ]
  },
  {
   "cell_type": "code",
   "execution_count": 58,
   "metadata": {},
   "outputs": [
    {
     "data": {
      "text/html": [
       "<div>\n",
       "<style scoped>\n",
       "    .dataframe tbody tr th:only-of-type {\n",
       "        vertical-align: middle;\n",
       "    }\n",
       "\n",
       "    .dataframe tbody tr th {\n",
       "        vertical-align: top;\n",
       "    }\n",
       "\n",
       "    .dataframe thead th {\n",
       "        text-align: right;\n",
       "    }\n",
       "</style>\n",
       "<table border=\"1\" class=\"dataframe\">\n",
       "  <thead>\n",
       "    <tr style=\"text-align: right;\">\n",
       "      <th></th>\n",
       "      <th>title</th>\n",
       "      <th>score</th>\n",
       "      <th>id</th>\n",
       "      <th>url</th>\n",
       "      <th>comms_num</th>\n",
       "      <th>created</th>\n",
       "      <th>body</th>\n",
       "      <th>timestamp</th>\n",
       "    </tr>\n",
       "  </thead>\n",
       "  <tbody>\n",
       "    <tr>\n",
       "      <th>0</th>\n",
       "      <td>Two weeks before his inauguration, Donald J. T...</td>\n",
       "      <td>189354</td>\n",
       "      <td>901p5f</td>\n",
       "      <td>https://www.nytimes.com/2018/07/18/world/europ...</td>\n",
       "      <td>18368</td>\n",
       "      <td>1.531995e+09</td>\n",
       "      <td></td>\n",
       "      <td>2018-07-19 12:06:35</td>\n",
       "    </tr>\n",
       "    <tr>\n",
       "      <th>1</th>\n",
       "      <td>2.6 terabyte leak of Panamanian shell company ...</td>\n",
       "      <td>154765</td>\n",
       "      <td>4d75i7</td>\n",
       "      <td>http://panamapapers.sueddeutsche.de/articles/5...</td>\n",
       "      <td>12207</td>\n",
       "      <td>1.459735e+09</td>\n",
       "      <td></td>\n",
       "      <td>2016-04-04 04:01:46</td>\n",
       "    </tr>\n",
       "    <tr>\n",
       "      <th>2</th>\n",
       "      <td>Churchill's grandson slams Trump for skipping ...</td>\n",
       "      <td>150306</td>\n",
       "      <td>9vw2w3</td>\n",
       "      <td>https://thehill.com/homenews/administration/41...</td>\n",
       "      <td>8071</td>\n",
       "      <td>1.541900e+09</td>\n",
       "      <td></td>\n",
       "      <td>2018-11-11 02:26:08</td>\n",
       "    </tr>\n",
       "    <tr>\n",
       "      <th>3</th>\n",
       "      <td>Internet Defenders Urge Mass Revolt to Fight F...</td>\n",
       "      <td>145856</td>\n",
       "      <td>7erver</td>\n",
       "      <td>https://www.commondreams.org/news/2017/11/21/i...</td>\n",
       "      <td>4053</td>\n",
       "      <td>1.511395e+09</td>\n",
       "      <td></td>\n",
       "      <td>2017-11-23 00:49:55</td>\n",
       "    </tr>\n",
       "    <tr>\n",
       "      <th>4</th>\n",
       "      <td>Giraffes just silently went to the list of end...</td>\n",
       "      <td>142120</td>\n",
       "      <td>a79z9p</td>\n",
       "      <td>https://www.indiatoday.in/education-today/gk-c...</td>\n",
       "      <td>3580</td>\n",
       "      <td>1.545158e+09</td>\n",
       "      <td></td>\n",
       "      <td>2018-12-18 19:37:04</td>\n",
       "    </tr>\n",
       "  </tbody>\n",
       "</table>\n",
       "</div>"
      ],
      "text/plain": [
       "                                               title   score      id  \\\n",
       "0  Two weeks before his inauguration, Donald J. T...  189354  901p5f   \n",
       "1  2.6 terabyte leak of Panamanian shell company ...  154765  4d75i7   \n",
       "2  Churchill's grandson slams Trump for skipping ...  150306  9vw2w3   \n",
       "3  Internet Defenders Urge Mass Revolt to Fight F...  145856  7erver   \n",
       "4  Giraffes just silently went to the list of end...  142120  a79z9p   \n",
       "\n",
       "                                                 url  comms_num       created  \\\n",
       "0  https://www.nytimes.com/2018/07/18/world/europ...      18368  1.531995e+09   \n",
       "1  http://panamapapers.sueddeutsche.de/articles/5...      12207  1.459735e+09   \n",
       "2  https://thehill.com/homenews/administration/41...       8071  1.541900e+09   \n",
       "3  https://www.commondreams.org/news/2017/11/21/i...       4053  1.511395e+09   \n",
       "4  https://www.indiatoday.in/education-today/gk-c...       3580  1.545158e+09   \n",
       "\n",
       "  body           timestamp  \n",
       "0      2018-07-19 12:06:35  \n",
       "1      2016-04-04 04:01:46  \n",
       "2      2018-11-11 02:26:08  \n",
       "3      2017-11-23 00:49:55  \n",
       "4      2018-12-18 19:37:04  "
      ]
     },
     "execution_count": 58,
     "metadata": {},
     "output_type": "execute_result"
    }
   ],
   "source": [
    "def get_date(created):\n",
    "    return dt.datetime.fromtimestamp(created)\n",
    "_timestamp = topics_data[\"created\"].apply(get_date)\n",
    "topics_data = topics_data.assign(timestamp = _timestamp)\n",
    "topics_data.head()"
   ]
  },
  {
   "cell_type": "code",
   "execution_count": 59,
   "metadata": {},
   "outputs": [],
   "source": [
    "topics_data.to_csv('reddit_' + reddit_branch + '.csv', index=False) "
   ]
  },
  {
   "cell_type": "code",
   "execution_count": null,
   "metadata": {},
   "outputs": [],
   "source": []
  }
 ],
 "metadata": {
  "kernelspec": {
   "display_name": "Python 3",
   "language": "python",
   "name": "python3"
  },
  "language_info": {
   "codemirror_mode": {
    "name": "ipython",
    "version": 3
   },
   "file_extension": ".py",
   "mimetype": "text/x-python",
   "name": "python",
   "nbconvert_exporter": "python",
   "pygments_lexer": "ipython3",
   "version": "3.7.0"
  }
 },
 "nbformat": 4,
 "nbformat_minor": 2
}
