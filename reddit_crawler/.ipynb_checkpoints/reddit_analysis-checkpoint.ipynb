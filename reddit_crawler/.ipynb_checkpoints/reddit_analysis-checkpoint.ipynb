{
 "cells": [
  {
   "cell_type": "code",
   "execution_count": 16,
   "metadata": {},
   "outputs": [],
   "source": [
    "import pandas as pd\n",
    "import requests\n",
    "import json"
   ]
  },
  {
   "cell_type": "code",
   "execution_count": 8,
   "metadata": {},
   "outputs": [],
   "source": [
    "submissions = pd.read_csv(\"./scrape_reddit/submissions.csv\")\n",
    "comments = pd.read_csv(\"./scrape_reddit/comments.csv\")"
   ]
  },
  {
   "cell_type": "code",
   "execution_count": 14,
   "metadata": {},
   "outputs": [
    {
     "data": {
      "text/html": [
       "<div>\n",
       "<style scoped>\n",
       "    .dataframe tbody tr th:only-of-type {\n",
       "        vertical-align: middle;\n",
       "    }\n",
       "\n",
       "    .dataframe tbody tr th {\n",
       "        vertical-align: top;\n",
       "    }\n",
       "\n",
       "    .dataframe thead th {\n",
       "        text-align: right;\n",
       "    }\n",
       "</style>\n",
       "<table border=\"1\" class=\"dataframe\">\n",
       "  <thead>\n",
       "    <tr style=\"text-align: right;\">\n",
       "      <th></th>\n",
       "      <th>Unnamed: 0</th>\n",
       "      <th>submission_id</th>\n",
       "      <th>num_of_comments</th>\n",
       "      <th>submission_score</th>\n",
       "      <th>submission_subreddit</th>\n",
       "      <th>post_date</th>\n",
       "      <th>submission_title</th>\n",
       "      <th>text</th>\n",
       "    </tr>\n",
       "  </thead>\n",
       "  <tbody>\n",
       "    <tr>\n",
       "      <th>0</th>\n",
       "      <td>0</td>\n",
       "      <td>870r6c</td>\n",
       "      <td>412</td>\n",
       "      <td>37</td>\n",
       "      <td>r/UIUC</td>\n",
       "      <td>2018-03-25</td>\n",
       "      <td>Fall 2018 Schedule Megathread!</td>\n",
       "      <td>Ask all your Fall 2018 (and Summer 2018) sched...</td>\n",
       "    </tr>\n",
       "    <tr>\n",
       "      <th>1</th>\n",
       "      <td>1</td>\n",
       "      <td>8c2ivp</td>\n",
       "      <td>7</td>\n",
       "      <td>32</td>\n",
       "      <td>r/UIUC</td>\n",
       "      <td>2018-04-13</td>\n",
       "      <td>Former U. of I. student pleads guilty to raisi...</td>\n",
       "      <td>NaN</td>\n",
       "    </tr>\n",
       "    <tr>\n",
       "      <th>2</th>\n",
       "      <td>2</td>\n",
       "      <td>8bx4hp</td>\n",
       "      <td>83</td>\n",
       "      <td>160</td>\n",
       "      <td>r/UIUC</td>\n",
       "      <td>2018-04-13</td>\n",
       "      <td>FUCK MCDONALDS ON GREEN STREET!!!</td>\n",
       "      <td>I FUCKIN SWEAR THIS GOD DAMN MCDONALDS FUCKIN ...</td>\n",
       "    </tr>\n",
       "    <tr>\n",
       "      <th>3</th>\n",
       "      <td>3</td>\n",
       "      <td>8bxsyk</td>\n",
       "      <td>16</td>\n",
       "      <td>64</td>\n",
       "      <td>r/UIUC</td>\n",
       "      <td>2018-04-13</td>\n",
       "      <td>I have become ECE</td>\n",
       "      <td>I don't know if it's just me, but I'm slowing ...</td>\n",
       "    </tr>\n",
       "    <tr>\n",
       "      <th>4</th>\n",
       "      <td>4</td>\n",
       "      <td>8c182h</td>\n",
       "      <td>6</td>\n",
       "      <td>11</td>\n",
       "      <td>r/UIUC</td>\n",
       "      <td>2018-04-13</td>\n",
       "      <td>I'm interested in starting up a monthly gamede...</td>\n",
       "      <td>I'm based here in town (**[doomlaser.com](http...</td>\n",
       "    </tr>\n",
       "  </tbody>\n",
       "</table>\n",
       "</div>"
      ],
      "text/plain": [
       "   Unnamed: 0 submission_id  num_of_comments  submission_score  \\\n",
       "0           0        870r6c              412                37   \n",
       "1           1        8c2ivp                7                32   \n",
       "2           2        8bx4hp               83               160   \n",
       "3           3        8bxsyk               16                64   \n",
       "4           4        8c182h                6                11   \n",
       "\n",
       "  submission_subreddit   post_date  \\\n",
       "0               r/UIUC  2018-03-25   \n",
       "1               r/UIUC  2018-04-13   \n",
       "2               r/UIUC  2018-04-13   \n",
       "3               r/UIUC  2018-04-13   \n",
       "4               r/UIUC  2018-04-13   \n",
       "\n",
       "                                    submission_title  \\\n",
       "0                     Fall 2018 Schedule Megathread!   \n",
       "1  Former U. of I. student pleads guilty to raisi...   \n",
       "2                  FUCK MCDONALDS ON GREEN STREET!!!   \n",
       "3                                  I have become ECE   \n",
       "4  I'm interested in starting up a monthly gamede...   \n",
       "\n",
       "                                                text  \n",
       "0  Ask all your Fall 2018 (and Summer 2018) sched...  \n",
       "1                                                NaN  \n",
       "2  I FUCKIN SWEAR THIS GOD DAMN MCDONALDS FUCKIN ...  \n",
       "3  I don't know if it's just me, but I'm slowing ...  \n",
       "4  I'm based here in town (**[doomlaser.com](http...  "
      ]
     },
     "execution_count": 14,
     "metadata": {},
     "output_type": "execute_result"
    }
   ],
   "source": [
    "submissions.head()"
   ]
  },
  {
   "cell_type": "code",
   "execution_count": 15,
   "metadata": {},
   "outputs": [
    {
     "data": {
      "text/html": [
       "<div>\n",
       "<style scoped>\n",
       "    .dataframe tbody tr th:only-of-type {\n",
       "        vertical-align: middle;\n",
       "    }\n",
       "\n",
       "    .dataframe tbody tr th {\n",
       "        vertical-align: top;\n",
       "    }\n",
       "\n",
       "    .dataframe thead th {\n",
       "        text-align: right;\n",
       "    }\n",
       "</style>\n",
       "<table border=\"1\" class=\"dataframe\">\n",
       "  <thead>\n",
       "    <tr style=\"text-align: right;\">\n",
       "      <th></th>\n",
       "      <th>Unnamed: 0</th>\n",
       "      <th>comment_id</th>\n",
       "      <th>submission_id</th>\n",
       "      <th>author_name</th>\n",
       "      <th>post_time</th>\n",
       "      <th>comment_score</th>\n",
       "      <th>text</th>\n",
       "    </tr>\n",
       "  </thead>\n",
       "  <tbody>\n",
       "    <tr>\n",
       "      <th>0</th>\n",
       "      <td>0</td>\n",
       "      <td>dwjpci0</td>\n",
       "      <td>870r6c</td>\n",
       "      <td>PROFESSOR_BURKHALTER</td>\n",
       "      <td>2018-03-30</td>\n",
       "      <td>8</td>\n",
       "      <td>AMA ABOUT MY NUTRITION CLASS (FSHN 120).  It i...</td>\n",
       "    </tr>\n",
       "    <tr>\n",
       "      <th>1</th>\n",
       "      <td>1</td>\n",
       "      <td>dw9demc</td>\n",
       "      <td>870r6c</td>\n",
       "      <td>UltimaticPW</td>\n",
       "      <td>2018-03-25</td>\n",
       "      <td>5</td>\n",
       "      <td>CS 225 ECE 391 PHYS 214/213?\\n\\nDoable? 12 cre...</td>\n",
       "    </tr>\n",
       "    <tr>\n",
       "      <th>2</th>\n",
       "      <td>2</td>\n",
       "      <td>dw9dido</td>\n",
       "      <td>870r6c</td>\n",
       "      <td>cashbartibarti</td>\n",
       "      <td>2018-03-25</td>\n",
       "      <td>4</td>\n",
       "      <td>Transferring into CS eng fall 2018. Gonna go t...</td>\n",
       "    </tr>\n",
       "    <tr>\n",
       "      <th>3</th>\n",
       "      <td>3</td>\n",
       "      <td>dw9dr79</td>\n",
       "      <td>870r6c</td>\n",
       "      <td>shortstop870</td>\n",
       "      <td>2018-03-25</td>\n",
       "      <td>5</td>\n",
       "      <td>Hello, going to be a Junior in the fall\\n\\nECE...</td>\n",
       "    </tr>\n",
       "    <tr>\n",
       "      <th>4</th>\n",
       "      <td>4</td>\n",
       "      <td>dw9fhxy</td>\n",
       "      <td>870r6c</td>\n",
       "      <td>Solofunk</td>\n",
       "      <td>2018-03-25</td>\n",
       "      <td>4</td>\n",
       "      <td>FIN 230 or 241 based on material, difficulty, ...</td>\n",
       "    </tr>\n",
       "  </tbody>\n",
       "</table>\n",
       "</div>"
      ],
      "text/plain": [
       "   Unnamed: 0 comment_id submission_id           author_name   post_time  \\\n",
       "0           0    dwjpci0        870r6c  PROFESSOR_BURKHALTER  2018-03-30   \n",
       "1           1    dw9demc        870r6c           UltimaticPW  2018-03-25   \n",
       "2           2    dw9dido        870r6c        cashbartibarti  2018-03-25   \n",
       "3           3    dw9dr79        870r6c          shortstop870  2018-03-25   \n",
       "4           4    dw9fhxy        870r6c              Solofunk  2018-03-25   \n",
       "\n",
       "   comment_score                                               text  \n",
       "0              8  AMA ABOUT MY NUTRITION CLASS (FSHN 120).  It i...  \n",
       "1              5  CS 225 ECE 391 PHYS 214/213?\\n\\nDoable? 12 cre...  \n",
       "2              4  Transferring into CS eng fall 2018. Gonna go t...  \n",
       "3              5  Hello, going to be a Junior in the fall\\n\\nECE...  \n",
       "4              4  FIN 230 or 241 based on material, difficulty, ...  "
      ]
     },
     "execution_count": 15,
     "metadata": {},
     "output_type": "execute_result"
    }
   ],
   "source": [
    "comments.head()"
   ]
  },
  {
   "cell_type": "code",
   "execution_count": 17,
   "metadata": {},
   "outputs": [],
   "source": [
    "def jprint(obj):\n",
    "    # create a formatted string of the Python JSON object\n",
    "    text = json.dumps(obj, sort_keys=True, indent=4)\n",
    "    print(text)"
   ]
  },
  {
   "cell_type": "code",
   "execution_count": 23,
   "metadata": {},
   "outputs": [
    {
     "name": "stdout",
     "output_type": "stream",
     "text": [
      "{\n",
      "    \"datetime\": \"2019-11-29 12:42:52\",\n",
      "    \"errors\": {\n",
      "        \"2546\": \"Invalid token\"\n",
      "    },\n",
      "    \"important\": \"Your use of the Hatebase API acknowledges your consent with Hatebase's Terms of Use (available online at hatebase.org) and PROHIBITS REDISTRIBUTION of this data for any purpose, including but not limited to republication in any form, such as in PUBLIC CODE REPOSITORIES.\",\n",
      "    \"version\": \"4.4\"\n",
      "}\n"
     ]
    }
   ],
   "source": [
    "parameters = {\n",
    "    \"token\": 'RBDxjjsBMEcTvnaVxVKfvVWBuedWfZNf',\n",
    "    \"language\": 'ENG',\n",
    "    'is_about_ethnicity' : 'true'\n",
    "}\n",
    "response = requests.post(\"https://api.hatebase.org/4-4/get_vocabulary\", params=parameters)\n",
    "jprint(response.json())"
   ]
  },
  {
   "cell_type": "code",
   "execution_count": 21,
   "metadata": {},
   "outputs": [
    {
     "name": "stdout",
     "output_type": "stream",
     "text": [
      "{'version': '4.4', 'datetime': '2019-11-29 12:33:38', 'important': \"Your use of the Hatebase API acknowledges your consent with Hatebase's Terms of Use (available online at hatebase.org) and PROHIBITS REDISTRIBUTION of this data for any purpose, including but not limited to republication in any form, such as in PUBLIC CODE REPOSITORIES.\", 'errors': {'2546': 'Invalid token'}}\n"
     ]
    }
   ],
   "source": [
    "print(response.json())"
   ]
  },
  {
   "cell_type": "code",
   "execution_count": null,
   "metadata": {},
   "outputs": [],
   "source": []
  }
 ],
 "metadata": {
  "kernelspec": {
   "display_name": "Python 3",
   "language": "python",
   "name": "python3"
  },
  "language_info": {
   "codemirror_mode": {
    "name": "ipython",
    "version": 3
   },
   "file_extension": ".py",
   "mimetype": "text/x-python",
   "name": "python",
   "nbconvert_exporter": "python",
   "pygments_lexer": "ipython3",
   "version": "3.7.0"
  }
 },
 "nbformat": 4,
 "nbformat_minor": 2
}
